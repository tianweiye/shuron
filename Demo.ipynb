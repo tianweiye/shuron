{
 "cells": [
  {
   "cell_type": "markdown",
   "id": "d46f72a1",
   "metadata": {},
   "source": [
    "# データ"
   ]
  },
  {
   "cell_type": "code",
   "execution_count": 11,
   "id": "95acf245-48b6-443b-af53-befef8bc8a65",
   "metadata": {},
   "outputs": [],
   "source": [
    "from tensorflow.keras.layers import Lambda, Input, Dense, BatchNormalization\n",
    "from tensorflow.keras.models import Model,Sequential\n",
    "from tensorflow.keras import backend as K\n",
    "from tensorflow import keras\n",
    "import matplotlib.pyplot as plt\n",
    "from mpl_toolkits.mplot3d import Axes3D\n",
    "import random, time, h5py, _thread\n",
    "from random import shuffle\n",
    "from models.cnn3d import *\n",
    "from models.lvae import *\n",
    "import tensorflow as tf\n",
    "import numpy as np"
   ]
  },
  {
   "cell_type": "code",
   "execution_count": 4,
   "id": "ab8703b9",
   "metadata": {},
   "outputs": [
    {
     "name": "stdout",
     "output_type": "stream",
     "text": [
      "loading MRIs\n",
      "loading table datas\n"
     ]
    }
   ],
   "source": [
    "from data.data_loader import *\n",
    "\n",
    "x_train, x_test, x_test_label, x_train_label, y_test_label, y_train_label = load_data(0,25)\n",
    "y_train, y_test = y_train_label, y_test_label"
   ]
  },
  {
   "cell_type": "code",
   "execution_count": null,
   "id": "5284b342-2e43-4b1a-bd5b-9229e56c8bb0",
   "metadata": {},
   "outputs": [],
   "source": [
    "# モデル"
   ]
  },
  {
   "cell_type": "code",
   "execution_count": 13,
   "id": "c415429a-fb83-4f1e-8910-e68cfc278780",
   "metadata": {
    "collapsed": true,
    "jupyter": {
     "outputs_hidden": true
    },
    "tags": []
   },
   "outputs": [
    {
     "name": "stdout",
     "output_type": "stream",
     "text": [
      "Model: \"variational_autoencoder\"\n",
      "__________________________________________________________________________________________________\n",
      "Layer (type)                    Output Shape         Param #     Connected to                     \n",
      "==================================================================================================\n",
      "cnn3d_inputs (InputLayer)       [(None, 80, 80, 80,  0                                            \n",
      "__________________________________________________________________________________________________\n",
      "cnn_encoder (Sequential)        (None, 250)          75466       cnn3d_inputs[0][0]               \n",
      "__________________________________________________________________________________________________\n",
      "encoder (Functional)            [(None, 64), (None,  236944      cnn_encoder[0][0]                \n",
      "__________________________________________________________________________________________________\n",
      "decoder (Functional)            [(None, 250), (None, 68698       encoder[0][0]                    \n",
      "                                                                 encoder[0][1]                    \n",
      "                                                                 encoder[0][2]                    \n",
      "                                                                 encoder[0][3]                    \n",
      "                                                                 encoder[0][4]                    \n",
      "                                                                 encoder[0][5]                    \n",
      "__________________________________________________________________________________________________\n",
      "daily_info (InputLayer)         [(None, 22)]         0                                            \n",
      "__________________________________________________________________________________________________\n",
      "tf.concat_2 (TFOpLambda)        (None, 40)           0           decoder[0][3]                    \n",
      "                                                                 daily_info[0][0]                 \n",
      "__________________________________________________________________________________________________\n",
      "input_26 (InputLayer)           [(None, 1)]          0                                            \n",
      "__________________________________________________________________________________________________\n",
      "cnn_decoder (Sequential)        (None, 80, 80, 80, 1 242914      decoder[0][0]                    \n",
      "__________________________________________________________________________________________________\n",
      "MLP (Sequential)                (None, 1)            2401        tf.concat_2[0][0]                \n",
      "==================================================================================================\n",
      "Total params: 626,423\n",
      "Trainable params: 623,167\n",
      "Non-trainable params: 3,256\n",
      "__________________________________________________________________________________________________\n"
     ]
    }
   ],
   "source": [
    "######## SEED ########\n",
    "random_seed=202107\n",
    "np.random.seed(random_seed)\n",
    "tf.random.set_seed(random_seed)\n",
    "random.seed(random_seed)\n",
    "\n",
    "##### LVAE setting #####\n",
    "frame = 15\n",
    "original_dim = 250\n",
    "input_shape = (original_dim, )\n",
    "latent_dim = 2\n",
    "#alpha = [0.005, 0.002,0.0005]\n",
    "alpha = [0.02, 0.0001, 0.0001]\n",
    "alpha = [0.02, 0.02, 0.02]\n",
    "MLP_SIZES = [250,128,64]\n",
    "Z_SIZES   = [64,48,18]\n",
    "L = len(Z_SIZES)\n",
    "MLPs = 2\n",
    "inputs = keras.layers.Input(shape=input_shape)\n",
    "\n",
    "inputs3d =  keras.layers.Input(shape=[80,80,80,10], name='cnn3d_inputs')\n",
    "encoder  =  cnn_encoder()\n",
    "decoder  =  cnn_decoder()\n",
    "\n",
    "lvaeinput       = encoder(inputs3d)\n",
    "z_output        = lvae_encoder(L,MLPs)(lvaeinput)\n",
    "output, *others = lvae_decoder(L,MLPs)(z_output)\n",
    "cnnoutput       = decoder(output)\n",
    "z = others[:L]\n",
    "KL = others[-L:]\n",
    "######################## MLP\n",
    "MLP = Sequential([Dense(32, activation='relu', input_shape=(Z_SIZES[-1]+22,),kernel_initializer=tf.keras.initializers.RandomNormal(0,0.02)),\n",
    "                Dense(32, activation='relu',kernel_initializer=tf.keras.initializers.RandomNormal(0,0.02)),\n",
    "                Dense(1, activation='sigmoid',kernel_initializer=tf.keras.initializers.RandomNormal(0,0.02))],name='MLP')\n",
    "\n",
    "\n",
    "input_y = Input(shape=(22,),name='daily_info')\n",
    "output_y = Input(shape=(1,))\n",
    "tmp = tf.concat([others[L-1],input_y],-1)\n",
    "y_pre  = MLP(tmp)\n",
    "lvae = Model([inputs3d,input_y,output_y], [cnnoutput,y_pre, *z], name='variational_autoencoder')\n",
    "######################## MLP\n",
    "lvae.summary()"
   ]
  },
  {
   "cell_type": "markdown",
   "id": "36effc4a",
   "metadata": {},
   "source": [
    "# モデル"
   ]
  },
  {
   "cell_type": "code",
   "execution_count": 18,
   "id": "85f76ab1",
   "metadata": {
    "tags": []
   },
   "outputs": [],
   "source": [
    "######################## LOSS\n",
    "\n",
    "def dice_loss_sum_3d(y_true, y_pred, smooth=0.0001):#y_pred.shape -> (batch,80,80,10)\n",
    "    y_true=K.cast(y_true,'float32')\n",
    "    union        = K.sum(y_true, axis=[1, 2, 3]) + K.sum(y_pred, axis=[1, 2, 3])\n",
    "    intersection = K.sum(y_true * y_pred, axis=[1,2, 3])\n",
    "    dice         = K.sum(1 - (2. * intersection + smooth) / (union + smooth), axis=[0,1])\n",
    "    return dice\n",
    "\n",
    "# loss\n",
    "beta = 3.\n",
    "CE_layer = Lambda(lambda X: beta * K.mean(tf.keras.losses.binary_crossentropy(*X)), name='CE_loss')\n",
    "ce_loss = CE_layer([output_y, y_pre])\n",
    "\n",
    "#ce_loss = beta*K.mean(tf.keras.losses.binary_crossentropy(input_y, y_pre))\n",
    "#lvae.add_loss(ce_loss)\n",
    "\n",
    "wu = 3.\n",
    "DSC_layer = Lambda(lambda X: dice_loss_sum_3d(*X), name='DSC_loss')\n",
    "KL_layer = Lambda(lambda inputs: inputs[0] * inputs[1]* inputs[2] , name='KL_loss')\n",
    "MSE = DSC_layer([inputs3d, cnnoutput])\n",
    "lvae.add_loss(MSE)\n",
    "for l in range(L):  lvae.add_loss(KL_layer([KL[l],alpha[l],wu]))\n",
    "######################## LOSS"
   ]
  },
  {
   "cell_type": "markdown",
   "id": "196f8855",
   "metadata": {},
   "source": [
    "# 訓練"
   ]
  },
  {
   "cell_type": "code",
   "execution_count": 3,
   "id": "c9994f6e",
   "metadata": {
    "collapsed": true,
    "jupyter": {
     "outputs_hidden": true
    },
    "scrolled": true,
    "tags": []
   },
   "outputs": [
    {
     "name": "stderr",
     "output_type": "stream",
     "text": [
      "2022-02-06 04:00:35.913505: I tensorflow/compiler/mlir/mlir_graph_optimization_pass.cc:116] None of the MLIR optimization passes are enabled (registered 2)\n",
      "2022-02-06 04:00:35.913934: I tensorflow/core/platform/profile_utils/cpu_utils.cc:112] CPU Frequency: 2494140000 Hz\n"
     ]
    },
    {
     "name": "stdout",
     "output_type": "stream",
     "text": [
      "Epoch 1/80\n",
      "\n",
      "Epoch 00001: LearningRateScheduler reducing learning rate to 0.002.\n"
     ]
    },
    {
     "name": "stderr",
     "output_type": "stream",
     "text": [
      "2022-02-06 04:00:40.405348: I tensorflow/stream_executor/platform/default/dso_loader.cc:49] Successfully opened dynamic library libcublas.so.11\n",
      "2022-02-06 04:00:41.065167: I tensorflow/stream_executor/platform/default/dso_loader.cc:49] Successfully opened dynamic library libcublasLt.so.11\n",
      "2022-02-06 04:00:41.115930: I tensorflow/stream_executor/platform/default/dso_loader.cc:49] Successfully opened dynamic library libcudnn.so.8\n"
     ]
    },
    {
     "name": "stdout",
     "output_type": "stream",
     "text": [
      " 6/10 [=================>............] - ETA: 5s - loss: 147.5565WARNING:tensorflow:Callback method `on_train_batch_end` is slow compared to the batch time (batch time: 0.4001s vs `on_train_batch_end` time: 0.8350s). Check your callbacks.\n",
      "10/10 [==============================] - 29s 1s/step - loss: 145.4042\n",
      "\n",
      "Epoch 00001: saving model to models/lvae2-01-141.94.ckpt\n",
      "Epoch 2/80\n",
      "\n",
      "Epoch 00002: LearningRateScheduler reducing learning rate to 0.002.\n",
      "10/10 [==============================] - 14s 1s/step - loss: 125.5461\n",
      "\n",
      "Epoch 00002: saving model to models/lvae2-02-124.07.ckpt\n",
      "-----saving figure----\n",
      "DSC 8.456368509928385\n",
      "Epoch 3/80\n",
      "\n",
      "Epoch 00003: LearningRateScheduler reducing learning rate to 0.002.\n",
      "10/10 [==============================] - 14s 1s/step - loss: 116.5237\n",
      "\n",
      "Epoch 00003: saving model to models/lvae2-03-115.21.ckpt\n",
      "Epoch 4/80\n",
      "\n",
      "Epoch 00004: LearningRateScheduler reducing learning rate to 0.002.\n",
      "10/10 [==============================] - 14s 1s/step - loss: 111.2098\n",
      "\n",
      "Epoch 00004: saving model to models/lvae2-04-108.54.ckpt\n",
      "Epoch 5/80\n",
      "\n",
      "Epoch 00005: LearningRateScheduler reducing learning rate to 0.002.\n",
      "10/10 [==============================] - 15s 1s/step - loss: 105.8006\n",
      "\n",
      "Epoch 00005: saving model to models/lvae2-05-104.24.ckpt\n",
      "-----saving figure----\n",
      "DSC 9.929451497395833\n",
      "Epoch 6/80\n",
      "\n",
      "Epoch 00006: LearningRateScheduler reducing learning rate to 0.002.\n",
      "10/10 [==============================] - 15s 1s/step - loss: 98.8909\n",
      "\n",
      "Epoch 00006: saving model to models/lvae2-06-99.86.ckpt\n",
      "Epoch 7/80\n",
      "\n",
      "Epoch 00007: LearningRateScheduler reducing learning rate to 0.002.\n",
      "10/10 [==============================] - 15s 1s/step - loss: 97.4171\n",
      "\n",
      "Epoch 00007: saving model to models/lvae2-07-96.64.ckpt\n",
      "Epoch 8/80\n",
      "\n",
      "Epoch 00008: LearningRateScheduler reducing learning rate to 0.002.\n",
      "10/10 [==============================] - 15s 1s/step - loss: 94.6113\n",
      "\n",
      "Epoch 00008: saving model to models/lvae2-08-92.48.ckpt\n",
      "-----saving figure----\n",
      "DSC 9.121131388346354\n",
      "Epoch 9/80\n",
      "\n",
      "Epoch 00009: LearningRateScheduler reducing learning rate to 0.002.\n",
      "10/10 [==============================] - 15s 1s/step - loss: 90.4991\n",
      "\n",
      "Epoch 00009: saving model to models/lvae2-09-91.60.ckpt\n",
      "Epoch 10/80\n",
      "\n",
      "Epoch 00010: LearningRateScheduler reducing learning rate to 0.002.\n",
      "10/10 [==============================] - 15s 1s/step - loss: 87.3289\n",
      "\n",
      "Epoch 00010: saving model to models/lvae2-10-86.06.ckpt\n",
      "Epoch 11/80\n",
      "\n",
      "Epoch 00011: LearningRateScheduler reducing learning rate to 0.002.\n",
      "10/10 [==============================] - 15s 1s/step - loss: 84.4350\n",
      "\n",
      "Epoch 00011: saving model to models/lvae2-11-84.73.ckpt\n",
      "-----saving figure----\n",
      "DSC 9.876177978515624\n",
      "Epoch 12/80\n",
      "\n",
      "Epoch 00012: LearningRateScheduler reducing learning rate to 0.002.\n",
      "10/10 [==============================] - 15s 1s/step - loss: 79.4267\n",
      "\n",
      "Epoch 00012: saving model to models/lvae2-12-79.68.ckpt\n",
      "Epoch 13/80\n",
      "\n",
      "Epoch 00013: LearningRateScheduler reducing learning rate to 0.002.\n",
      "10/10 [==============================] - 15s 1s/step - loss: 80.4310\n",
      "\n",
      "Epoch 00013: saving model to models/lvae2-13-79.83.ckpt\n",
      "Epoch 14/80\n",
      "\n",
      "Epoch 00014: LearningRateScheduler reducing learning rate to 0.002.\n",
      "10/10 [==============================] - 15s 1s/step - loss: 76.0174\n",
      "\n",
      "Epoch 00014: saving model to models/lvae2-14-77.78.ckpt\n",
      "-----saving figure----\n",
      "DSC 9.974050903320313\n",
      "Epoch 15/80\n",
      "\n",
      "Epoch 00015: LearningRateScheduler reducing learning rate to 0.002.\n",
      "10/10 [==============================] - 15s 1s/step - loss: 75.3846\n",
      "\n",
      "Epoch 00015: saving model to models/lvae2-15-73.82.ckpt\n",
      "Epoch 16/80\n",
      "\n",
      "Epoch 00016: LearningRateScheduler reducing learning rate to 0.002.\n",
      "10/10 [==============================] - 15s 1s/step - loss: 71.9854\n",
      "\n",
      "Epoch 00016: saving model to models/lvae2-16-72.89.ckpt\n",
      "Epoch 17/80\n",
      "\n",
      "Epoch 00017: LearningRateScheduler reducing learning rate to 0.002.\n",
      "10/10 [==============================] - 15s 1s/step - loss: 72.5017\n",
      "\n",
      "Epoch 00017: saving model to models/lvae2-17-72.63.ckpt\n",
      "-----saving figure----\n",
      "DSC 9.994544474283854\n",
      "Epoch 18/80\n",
      "\n",
      "Epoch 00018: LearningRateScheduler reducing learning rate to 0.002.\n",
      "10/10 [==============================] - 15s 1s/step - loss: 69.1804\n",
      "\n",
      "Epoch 00018: saving model to models/lvae2-18-68.71.ckpt\n",
      "Epoch 19/80\n",
      "\n",
      "Epoch 00019: LearningRateScheduler reducing learning rate to 0.002.\n",
      "10/10 [==============================] - 15s 1s/step - loss: 67.1208\n",
      "\n",
      "Epoch 00019: saving model to models/lvae2-19-67.46.ckpt\n",
      "Epoch 20/80\n",
      "\n",
      "Epoch 00020: LearningRateScheduler reducing learning rate to 0.002.\n",
      "10/10 [==============================] - 15s 1s/step - loss: 67.4731\n",
      "\n",
      "Epoch 00020: saving model to models/lvae2-20-66.90.ckpt\n",
      "-----saving figure----\n",
      "DSC 9.923312377929687\n",
      "Epoch 21/80\n",
      "\n",
      "Epoch 00021: LearningRateScheduler reducing learning rate to 0.002.\n",
      "10/10 [==============================] - 15s 1s/step - loss: 68.3867\n",
      "\n",
      "Epoch 00021: saving model to models/lvae2-21-68.34.ckpt\n",
      "Epoch 22/80\n",
      "\n",
      "Epoch 00022: LearningRateScheduler reducing learning rate to 0.002.\n",
      "10/10 [==============================] - 15s 1s/step - loss: 65.4431\n",
      "\n",
      "Epoch 00022: saving model to models/lvae2-22-64.59.ckpt\n",
      "Epoch 23/80\n",
      "\n",
      "Epoch 00023: LearningRateScheduler reducing learning rate to 0.002.\n",
      "10/10 [==============================] - 15s 1s/step - loss: 65.8730\n",
      "\n",
      "Epoch 00023: saving model to models/lvae2-23-66.58.ckpt\n",
      "-----saving figure----\n",
      "DSC 9.83651123046875\n",
      "Epoch 24/80\n",
      "\n",
      "Epoch 00024: LearningRateScheduler reducing learning rate to 0.002.\n",
      "10/10 [==============================] - 15s 1s/step - loss: 64.6386\n",
      "\n",
      "Epoch 00024: saving model to models/lvae2-24-63.92.ckpt\n",
      "Epoch 25/80\n",
      "\n",
      "Epoch 00025: LearningRateScheduler reducing learning rate to 0.002.\n",
      "10/10 [==============================] - 15s 1s/step - loss: 63.4563\n",
      "\n",
      "Epoch 00025: saving model to models/lvae2-25-63.45.ckpt\n",
      "Epoch 26/80\n",
      "\n",
      "Epoch 00026: LearningRateScheduler reducing learning rate to 0.002.\n",
      "10/10 [==============================] - 15s 1s/step - loss: 61.1114\n",
      "\n",
      "Epoch 00026: saving model to models/lvae2-26-61.82.ckpt\n",
      "-----saving figure----\n",
      "DSC 8.230762736002605\n",
      "Epoch 27/80\n",
      "\n",
      "Epoch 00027: LearningRateScheduler reducing learning rate to 0.002.\n",
      "10/10 [==============================] - 15s 1s/step - loss: 61.6976\n",
      "\n",
      "Epoch 00027: saving model to models/lvae2-27-63.01.ckpt\n",
      "Epoch 28/80\n",
      "\n",
      "Epoch 00028: LearningRateScheduler reducing learning rate to 0.002.\n",
      "10/10 [==============================] - 15s 1s/step - loss: 63.0135\n",
      "\n",
      "Epoch 00028: saving model to models/lvae2-28-62.55.ckpt\n",
      "Epoch 29/80\n",
      "\n",
      "Epoch 00029: LearningRateScheduler reducing learning rate to 0.002.\n",
      "10/10 [==============================] - 15s 1s/step - loss: 63.0527\n",
      "\n",
      "Epoch 00029: saving model to models/lvae2-29-63.32.ckpt\n",
      "-----saving figure----\n",
      "DSC 6.4924560546875\n",
      "Epoch 30/80\n",
      "\n",
      "Epoch 00030: LearningRateScheduler reducing learning rate to 0.002.\n",
      "10/10 [==============================] - 15s 1s/step - loss: 61.0049\n",
      "\n",
      "Epoch 00030: saving model to models/lvae2-30-62.03.ckpt\n",
      "Epoch 31/80\n",
      "\n",
      "Epoch 00031: LearningRateScheduler reducing learning rate to 0.0015.\n",
      "10/10 [==============================] - 15s 1s/step - loss: 59.5745\n",
      "\n",
      "Epoch 00031: saving model to models/lvae2-31-60.23.ckpt\n",
      "Epoch 32/80\n",
      "\n",
      "Epoch 00032: LearningRateScheduler reducing learning rate to 0.0015.\n",
      "10/10 [==============================] - 15s 1s/step - loss: 58.2572\n",
      "\n",
      "Epoch 00032: saving model to models/lvae2-32-60.52.ckpt\n",
      "-----saving figure----\n",
      "DSC 5.18995107014974\n",
      "Epoch 33/80\n",
      "\n",
      "Epoch 00033: LearningRateScheduler reducing learning rate to 0.0015.\n",
      "10/10 [==============================] - 15s 1s/step - loss: 58.3538\n",
      "\n",
      "Epoch 00033: saving model to models/lvae2-33-59.32.ckpt\n",
      "Epoch 34/80\n",
      "\n",
      "Epoch 00034: LearningRateScheduler reducing learning rate to 0.0015.\n",
      "10/10 [==============================] - 15s 1s/step - loss: 58.1744\n",
      "\n",
      "Epoch 00034: saving model to models/lvae2-34-58.76.ckpt\n",
      "Epoch 35/80\n",
      "\n",
      "Epoch 00035: LearningRateScheduler reducing learning rate to 0.0015.\n",
      "10/10 [==============================] - 15s 1s/step - loss: 56.2744\n",
      "\n",
      "Epoch 00035: saving model to models/lvae2-35-57.95.ckpt\n",
      "-----saving figure----\n",
      "DSC 4.100446828206381\n",
      "Epoch 36/80\n",
      "\n",
      "Epoch 00036: LearningRateScheduler reducing learning rate to 0.0015.\n",
      "10/10 [==============================] - 15s 1s/step - loss: 59.3232\n",
      "\n",
      "Epoch 00036: saving model to models/lvae2-36-59.00.ckpt\n",
      "Epoch 37/80\n",
      "\n",
      "Epoch 00037: LearningRateScheduler reducing learning rate to 0.0015.\n",
      "10/10 [==============================] - 15s 1s/step - loss: 57.7888\n",
      "\n",
      "Epoch 00037: saving model to models/lvae2-37-57.15.ckpt\n",
      "Epoch 38/80\n",
      "\n",
      "Epoch 00038: LearningRateScheduler reducing learning rate to 0.0015.\n",
      "10/10 [==============================] - 15s 1s/step - loss: 56.6187\n",
      "\n",
      "Epoch 00038: saving model to models/lvae2-38-55.47.ckpt\n",
      "-----saving figure----\n",
      "DSC 5.4789886474609375\n",
      "Epoch 39/80\n",
      "\n",
      "Epoch 00039: LearningRateScheduler reducing learning rate to 0.0015.\n",
      "10/10 [==============================] - 14s 1s/step - loss: 61.2304\n",
      "\n",
      "Epoch 00039: saving model to models/lvae2-39-57.52.ckpt\n",
      "Epoch 40/80\n",
      "\n",
      "Epoch 00040: LearningRateScheduler reducing learning rate to 0.0015.\n",
      "10/10 [==============================] - 15s 1s/step - loss: 55.2357\n",
      "\n",
      "Epoch 00040: saving model to models/lvae2-40-55.38.ckpt\n",
      "Epoch 41/80\n",
      "\n",
      "Epoch 00041: LearningRateScheduler reducing learning rate to 0.0011250000000000001.\n",
      "10/10 [==============================] - 15s 1s/step - loss: 58.1936\n",
      "\n",
      "Epoch 00041: saving model to models/lvae2-41-56.58.ckpt\n",
      "-----saving figure----\n",
      "DSC 3.7405848185221355\n",
      "Epoch 42/80\n",
      "\n",
      "Epoch 00042: LearningRateScheduler reducing learning rate to 0.0011250000000000001.\n",
      "10/10 [==============================] - 15s 1s/step - loss: 55.6914\n",
      "\n",
      "Epoch 00042: saving model to models/lvae2-42-54.74.ckpt\n",
      "Epoch 43/80\n",
      "\n",
      "Epoch 00043: LearningRateScheduler reducing learning rate to 0.0011250000000000001.\n",
      "10/10 [==============================] - 15s 1s/step - loss: 50.8385\n",
      "\n",
      "Epoch 00043: saving model to models/lvae2-43-52.74.ckpt\n",
      "Epoch 44/80\n",
      "\n",
      "Epoch 00044: LearningRateScheduler reducing learning rate to 0.0011250000000000001.\n",
      "10/10 [==============================] - 15s 1s/step - loss: 53.7665\n",
      "\n",
      "Epoch 00044: saving model to models/lvae2-44-54.13.ckpt\n",
      "-----saving figure----\n",
      "DSC 3.492365264892578\n",
      "Epoch 45/80\n",
      "\n",
      "Epoch 00045: LearningRateScheduler reducing learning rate to 0.0011250000000000001.\n",
      "10/10 [==============================] - 15s 1s/step - loss: 57.5580\n",
      "\n",
      "Epoch 00045: saving model to models/lvae2-45-57.58.ckpt\n",
      "Epoch 46/80\n",
      "\n",
      "Epoch 00046: LearningRateScheduler reducing learning rate to 0.0011250000000000001.\n",
      "10/10 [==============================] - 15s 1s/step - loss: 54.8584\n",
      "\n",
      "Epoch 00046: saving model to models/lvae2-46-55.00.ckpt\n",
      "Epoch 47/80\n",
      "\n",
      "Epoch 00047: LearningRateScheduler reducing learning rate to 0.0011250000000000001.\n",
      "10/10 [==============================] - 15s 1s/step - loss: 51.5913\n",
      "\n",
      "Epoch 00047: saving model to models/lvae2-47-51.81.ckpt\n",
      "-----saving figure----\n",
      "DSC 3.0157424926757814\n",
      "Epoch 48/80\n",
      "\n",
      "Epoch 00048: LearningRateScheduler reducing learning rate to 0.0011250000000000001.\n",
      "10/10 [==============================] - 15s 1s/step - loss: 52.4454\n",
      "\n",
      "Epoch 00048: saving model to models/lvae2-48-53.52.ckpt\n",
      "Epoch 49/80\n",
      "\n",
      "Epoch 00049: LearningRateScheduler reducing learning rate to 0.0011250000000000001.\n",
      "10/10 [==============================] - 15s 1s/step - loss: 52.6608\n",
      "\n",
      "Epoch 00049: saving model to models/lvae2-49-53.91.ckpt\n",
      "Epoch 50/80\n",
      "\n",
      "Epoch 00050: LearningRateScheduler reducing learning rate to 0.0011250000000000001.\n",
      "10/10 [==============================] - 15s 1s/step - loss: 51.5433\n",
      "\n",
      "Epoch 00050: saving model to models/lvae2-50-52.62.ckpt\n",
      "-----saving figure----\n",
      "DSC 3.060105387369792\n",
      "Epoch 51/80\n",
      "\n",
      "Epoch 00051: LearningRateScheduler reducing learning rate to 0.00084375.\n",
      "10/10 [==============================] - 14s 1s/step - loss: 51.4781\n",
      "\n",
      "Epoch 00051: saving model to models/lvae2-51-51.13.ckpt\n",
      "Epoch 52/80\n",
      "\n",
      "Epoch 00052: LearningRateScheduler reducing learning rate to 0.00084375.\n",
      "10/10 [==============================] - 15s 1s/step - loss: 51.2263\n",
      "\n",
      "Epoch 00052: saving model to models/lvae2-52-52.14.ckpt\n",
      "Epoch 53/80\n",
      "\n",
      "Epoch 00053: LearningRateScheduler reducing learning rate to 0.00084375.\n",
      "10/10 [==============================] - 15s 1s/step - loss: 51.9157\n",
      "\n",
      "Epoch 00053: saving model to models/lvae2-53-53.19.ckpt\n",
      "-----saving figure----\n",
      "DSC 3.2498507181803387\n",
      "Epoch 54/80\n",
      "\n",
      "Epoch 00054: LearningRateScheduler reducing learning rate to 0.00084375.\n",
      "10/10 [==============================] - 15s 1s/step - loss: 54.3605\n",
      "\n",
      "Epoch 00054: saving model to models/lvae2-54-54.12.ckpt\n",
      "Epoch 55/80\n",
      "\n",
      "Epoch 00055: LearningRateScheduler reducing learning rate to 0.00084375.\n",
      "10/10 [==============================] - 15s 1s/step - loss: 52.4561\n",
      "\n",
      "Epoch 00055: saving model to models/lvae2-55-52.91.ckpt\n",
      "Epoch 56/80\n",
      "\n",
      "Epoch 00056: LearningRateScheduler reducing learning rate to 0.00084375.\n",
      "10/10 [==============================] - 15s 1s/step - loss: 52.6415\n",
      "\n",
      "Epoch 00056: saving model to models/lvae2-56-52.56.ckpt\n",
      "-----saving figure----\n",
      "DSC 3.337530263264974\n",
      "Epoch 57/80\n",
      "\n",
      "Epoch 00057: LearningRateScheduler reducing learning rate to 0.00084375.\n",
      "10/10 [==============================] - 14s 1s/step - loss: 51.6490\n",
      "\n",
      "Epoch 00057: saving model to models/lvae2-57-52.24.ckpt\n",
      "Epoch 58/80\n",
      "\n",
      "Epoch 00058: LearningRateScheduler reducing learning rate to 0.00084375.\n",
      "10/10 [==============================] - 14s 1s/step - loss: 50.6815\n",
      "\n",
      "Epoch 00058: saving model to models/lvae2-58-52.06.ckpt\n",
      "Epoch 59/80\n",
      "\n",
      "Epoch 00059: LearningRateScheduler reducing learning rate to 0.00084375.\n",
      "10/10 [==============================] - 14s 1s/step - loss: 48.6080\n",
      "\n",
      "Epoch 00059: saving model to models/lvae2-59-50.06.ckpt\n",
      "-----saving figure----\n",
      "DSC 3.3052800496419272\n"
     ]
    },
    {
     "name": "stderr",
     "output_type": "stream",
     "text": [
      "/tmp/ipykernel_79688/1991698098.py:257: RuntimeWarning: More than 20 figures have been opened. Figures created through the pyplot interface (`matplotlib.pyplot.figure`) are retained until explicitly closed and may consume too much memory. (To control this warning, see the rcParam `figure.max_open_warning`).\n",
      "  plt.figure(figsize=(12, 10))\n"
     ]
    },
    {
     "name": "stdout",
     "output_type": "stream",
     "text": [
      "Epoch 60/80\n",
      "\n",
      "Epoch 00060: LearningRateScheduler reducing learning rate to 0.00084375.\n",
      "10/10 [==============================] - 15s 1s/step - loss: 52.7713\n",
      "\n",
      "Epoch 00060: saving model to models/lvae2-60-50.67.ckpt\n",
      "Epoch 61/80\n",
      "\n",
      "Epoch 00061: LearningRateScheduler reducing learning rate to 0.0006328125.\n",
      "10/10 [==============================] - 15s 1s/step - loss: 49.0848\n",
      "\n",
      "Epoch 00061: saving model to models/lvae2-61-49.25.ckpt\n",
      "Epoch 62/80\n",
      "\n",
      "Epoch 00062: LearningRateScheduler reducing learning rate to 0.0006328125.\n",
      "10/10 [==============================] - 15s 1s/step - loss: 47.5605\n",
      "\n",
      "Epoch 00062: saving model to models/lvae2-62-50.02.ckpt\n",
      "-----saving figure----\n",
      "DSC 3.1159083048502603\n"
     ]
    },
    {
     "name": "stderr",
     "output_type": "stream",
     "text": [
      "/tmp/ipykernel_79688/1991698098.py:254: RuntimeWarning: More than 20 figures have been opened. Figures created through the pyplot interface (`matplotlib.pyplot.figure`) are retained until explicitly closed and may consume too much memory. (To control this warning, see the rcParam `figure.max_open_warning`).\n",
      "  fig = plt.figure(figsize=(12, 10))\n"
     ]
    },
    {
     "name": "stdout",
     "output_type": "stream",
     "text": [
      "Epoch 63/80\n",
      "\n",
      "Epoch 00063: LearningRateScheduler reducing learning rate to 0.0006328125.\n",
      "10/10 [==============================] - 15s 1s/step - loss: 49.8985\n",
      "\n",
      "Epoch 00063: saving model to models/lvae2-63-49.31.ckpt\n",
      "Epoch 64/80\n",
      "\n",
      "Epoch 00064: LearningRateScheduler reducing learning rate to 0.0006328125.\n",
      "10/10 [==============================] - 15s 1s/step - loss: 48.3950\n",
      "\n",
      "Epoch 00064: saving model to models/lvae2-64-48.34.ckpt\n",
      "Epoch 65/80\n",
      "\n",
      "Epoch 00065: LearningRateScheduler reducing learning rate to 0.0006328125.\n",
      "10/10 [==============================] - 15s 1s/step - loss: 49.6966\n",
      "\n",
      "Epoch 00065: saving model to models/lvae2-65-49.30.ckpt\n",
      "-----saving figure----\n",
      "DSC 2.889143625895182\n",
      "Epoch 66/80\n",
      "\n",
      "Epoch 00066: LearningRateScheduler reducing learning rate to 0.0006328125.\n",
      "10/10 [==============================] - 14s 1s/step - loss: 47.5691\n",
      "\n",
      "Epoch 00066: saving model to models/lvae2-66-47.61.ckpt\n",
      "Epoch 67/80\n",
      "\n",
      "Epoch 00067: LearningRateScheduler reducing learning rate to 0.0006328125.\n",
      "10/10 [==============================] - 15s 1s/step - loss: 47.0729\n",
      "\n",
      "Epoch 00067: saving model to models/lvae2-67-47.86.ckpt\n",
      "Epoch 68/80\n",
      "\n",
      "Epoch 00068: LearningRateScheduler reducing learning rate to 0.0006328125.\n",
      "10/10 [==============================] - 15s 1s/step - loss: 45.9693\n",
      "\n",
      "Epoch 00068: saving model to models/lvae2-68-47.32.ckpt\n",
      "-----saving figure----\n",
      "DSC 2.92505366007487\n",
      "Epoch 69/80\n",
      "\n",
      "Epoch 00069: LearningRateScheduler reducing learning rate to 0.0006328125.\n",
      "10/10 [==============================] - 14s 1s/step - loss: 45.6789\n",
      "\n",
      "Epoch 00069: saving model to models/lvae2-69-46.99.ckpt\n",
      "Epoch 70/80\n",
      "\n",
      "Epoch 00070: LearningRateScheduler reducing learning rate to 0.0006328125.\n",
      "10/10 [==============================] - 15s 1s/step - loss: 47.5130\n",
      "\n",
      "Epoch 00070: saving model to models/lvae2-70-48.10.ckpt\n",
      "Epoch 71/80\n",
      "\n",
      "Epoch 00071: LearningRateScheduler reducing learning rate to 0.000474609375.\n",
      "10/10 [==============================] - 15s 1s/step - loss: 49.4779\n",
      "\n",
      "Epoch 00071: saving model to models/lvae2-71-49.63.ckpt\n",
      "-----saving figure----\n",
      "DSC 2.795764923095703\n",
      "Epoch 72/80\n",
      "\n",
      "Epoch 00072: LearningRateScheduler reducing learning rate to 0.000474609375.\n",
      "10/10 [==============================] - 14s 1s/step - loss: 46.6732\n",
      "\n",
      "Epoch 00072: saving model to models/lvae2-72-47.89.ckpt\n",
      "Epoch 73/80\n",
      "\n",
      "Epoch 00073: LearningRateScheduler reducing learning rate to 0.000474609375.\n",
      "10/10 [==============================] - 15s 1s/step - loss: 47.5740\n",
      "\n",
      "Epoch 00073: saving model to models/lvae2-73-45.77.ckpt\n",
      "Epoch 74/80\n",
      "\n",
      "Epoch 00074: LearningRateScheduler reducing learning rate to 0.000474609375.\n",
      "10/10 [==============================] - 15s 1s/step - loss: 47.2155\n",
      "\n",
      "Epoch 00074: saving model to models/lvae2-74-48.45.ckpt\n",
      "-----saving figure----\n",
      "DSC 2.674760945638021\n",
      "Epoch 75/80\n",
      "\n",
      "Epoch 00075: LearningRateScheduler reducing learning rate to 0.000474609375.\n",
      "10/10 [==============================] - 15s 1s/step - loss: 47.5385\n",
      "\n",
      "Epoch 00075: saving model to models/lvae2-75-47.24.ckpt\n",
      "Epoch 76/80\n",
      "\n",
      "Epoch 00076: LearningRateScheduler reducing learning rate to 0.000474609375.\n",
      "10/10 [==============================] - 15s 1s/step - loss: 45.9771\n",
      "\n",
      "Epoch 00076: saving model to models/lvae2-76-46.35.ckpt\n",
      "Epoch 77/80\n",
      "\n",
      "Epoch 00077: LearningRateScheduler reducing learning rate to 0.000474609375.\n",
      "10/10 [==============================] - 15s 1s/step - loss: 46.8442\n",
      "\n",
      "Epoch 00077: saving model to models/lvae2-77-46.93.ckpt\n",
      "-----saving figure----\n",
      "DSC 2.8258206685384115\n",
      "Epoch 78/80\n",
      "\n",
      "Epoch 00078: LearningRateScheduler reducing learning rate to 0.000474609375.\n",
      "10/10 [==============================] - 14s 1s/step - loss: 46.7621\n",
      "\n",
      "Epoch 00078: saving model to models/lvae2-78-46.81.ckpt\n",
      "Epoch 79/80\n",
      "\n",
      "Epoch 00079: LearningRateScheduler reducing learning rate to 0.000474609375.\n",
      "10/10 [==============================] - 15s 1s/step - loss: 46.5958\n",
      "\n",
      "Epoch 00079: saving model to models/lvae2-79-47.30.ckpt\n",
      "Epoch 80/80\n",
      "\n",
      "Epoch 00080: LearningRateScheduler reducing learning rate to 0.000474609375.\n",
      "10/10 [==============================] - 14s 1s/step - loss: 47.2266\n",
      "\n",
      "Epoch 00080: saving model to models/lvae2-80-47.39.ckpt\n",
      "-----saving figure----\n",
      "DSC 2.8797693888346356\n"
     ]
    },
    {
     "data": {
      "text/plain": [
       "<Figure size 864x720 with 0 Axes>"
      ]
     },
     "metadata": {},
     "output_type": "display_data"
    },
    {
     "data": {
      "text/plain": [
       "<Figure size 864x720 with 0 Axes>"
      ]
     },
     "metadata": {},
     "output_type": "display_data"
    },
    {
     "data": {
      "text/plain": [
       "<Figure size 864x720 with 0 Axes>"
      ]
     },
     "metadata": {},
     "output_type": "display_data"
    },
    {
     "data": {
      "text/plain": [
       "<Figure size 864x720 with 0 Axes>"
      ]
     },
     "metadata": {},
     "output_type": "display_data"
    },
    {
     "data": {
      "text/plain": [
       "<Figure size 864x720 with 0 Axes>"
      ]
     },
     "metadata": {},
     "output_type": "display_data"
    },
    {
     "data": {
      "text/plain": [
       "<Figure size 864x720 with 0 Axes>"
      ]
     },
     "metadata": {},
     "output_type": "display_data"
    },
    {
     "data": {
      "text/plain": [
       "<Figure size 864x720 with 0 Axes>"
      ]
     },
     "metadata": {},
     "output_type": "display_data"
    },
    {
     "data": {
      "text/plain": [
       "<Figure size 864x720 with 0 Axes>"
      ]
     },
     "metadata": {},
     "output_type": "display_data"
    },
    {
     "data": {
      "text/plain": [
       "<Figure size 864x720 with 0 Axes>"
      ]
     },
     "metadata": {},
     "output_type": "display_data"
    },
    {
     "data": {
      "text/plain": [
       "<Figure size 864x720 with 0 Axes>"
      ]
     },
     "metadata": {},
     "output_type": "display_data"
    },
    {
     "data": {
      "text/plain": [
       "<Figure size 864x720 with 0 Axes>"
      ]
     },
     "metadata": {},
     "output_type": "display_data"
    },
    {
     "data": {
      "text/plain": [
       "<Figure size 864x720 with 0 Axes>"
      ]
     },
     "metadata": {},
     "output_type": "display_data"
    },
    {
     "data": {
      "text/plain": [
       "<Figure size 864x720 with 0 Axes>"
      ]
     },
     "metadata": {},
     "output_type": "display_data"
    },
    {
     "data": {
      "text/plain": [
       "<Figure size 864x720 with 0 Axes>"
      ]
     },
     "metadata": {},
     "output_type": "display_data"
    },
    {
     "data": {
      "text/plain": [
       "<Figure size 864x720 with 0 Axes>"
      ]
     },
     "metadata": {},
     "output_type": "display_data"
    },
    {
     "data": {
      "text/plain": [
       "<Figure size 864x720 with 0 Axes>"
      ]
     },
     "metadata": {},
     "output_type": "display_data"
    },
    {
     "data": {
      "text/plain": [
       "<Figure size 864x720 with 0 Axes>"
      ]
     },
     "metadata": {},
     "output_type": "display_data"
    },
    {
     "data": {
      "text/plain": [
       "<Figure size 864x720 with 0 Axes>"
      ]
     },
     "metadata": {},
     "output_type": "display_data"
    },
    {
     "data": {
      "text/plain": [
       "<Figure size 864x720 with 0 Axes>"
      ]
     },
     "metadata": {},
     "output_type": "display_data"
    },
    {
     "data": {
      "text/plain": [
       "<Figure size 864x720 with 0 Axes>"
      ]
     },
     "metadata": {},
     "output_type": "display_data"
    },
    {
     "data": {
      "text/plain": [
       "<Figure size 864x720 with 0 Axes>"
      ]
     },
     "metadata": {},
     "output_type": "display_data"
    },
    {
     "data": {
      "text/plain": [
       "<Figure size 864x720 with 0 Axes>"
      ]
     },
     "metadata": {},
     "output_type": "display_data"
    },
    {
     "data": {
      "text/plain": [
       "<Figure size 864x720 with 0 Axes>"
      ]
     },
     "metadata": {},
     "output_type": "display_data"
    },
    {
     "data": {
      "text/plain": [
       "<Figure size 864x720 with 0 Axes>"
      ]
     },
     "metadata": {},
     "output_type": "display_data"
    },
    {
     "data": {
      "text/plain": [
       "<Figure size 864x720 with 0 Axes>"
      ]
     },
     "metadata": {},
     "output_type": "display_data"
    },
    {
     "data": {
      "text/plain": [
       "<Figure size 864x720 with 0 Axes>"
      ]
     },
     "metadata": {},
     "output_type": "display_data"
    },
    {
     "data": {
      "text/plain": [
       "<Figure size 864x720 with 0 Axes>"
      ]
     },
     "metadata": {},
     "output_type": "display_data"
    }
   ],
   "source": [
    "from tensorflow import keras \n",
    "import tensorflow as tf\n",
    "import os\n",
    "\n",
    "checkpoint_path = \"lvae1-{epoch:02d}-{loss:.2f}.ckpt\"\n",
    "checkpoint_dir = os.path.dirname(checkpoint_path)\n",
    "\n",
    "# callback save\n",
    "cp_callback = tf.keras.callbacks.ModelCheckpoint(filepath=checkpoint_path,\n",
    "                                                 save_weights_only=True,\n",
    "                                                 verbose=1)\n",
    "\n",
    "def schedule(epoch ,offset = 0):\n",
    "    N = (epoch+80)//10 - 2\n",
    "    if N >=0: return float(0.002 *(0.75**N))\n",
    "    else: return 0.002\n",
    "\n",
    "lr_cb = tf.keras.callbacks.LearningRateScheduler(schedule, verbose=2)\n",
    "\n",
    "import tensorflow as tf\n",
    "# 训练LVAE\n",
    "# model\n",
    "lr=0.0002\n",
    "optimizer = keras.optimizers.Adam(learning_rate=lr)#best 0.001\n",
    "lvae.compile(optimizer=optimizer)\n",
    "\n",
    "\n",
    "history = lvae.fit([x_train,x_train_label,y_train], \n",
    "         epochs=80, callbacks=[cp_callback], batch_size=15)"
   ]
  },
  {
   "cell_type": "markdown",
   "id": "9b214f71",
   "metadata": {},
   "source": [
    "# テストと評価"
   ]
  },
  {
   "cell_type": "code",
   "execution_count": null,
   "id": "e8299ce5",
   "metadata": {},
   "outputs": [],
   "source": [
    "import pandas as pd\n",
    "# lvae.load_weights('models/lvae2-80-47.39.ckpt')\n",
    "\n",
    "# テスト（一括でテストするとメモリオーバーですから、少しずつテストしていきます）\n",
    "results_test_img =[]\n",
    "results_test_y =[]\n",
    "results_train_y =[]\n",
    "results_train_img =[]\n",
    "model = lvae\n",
    "results_test_img, results_test_y, _,_,test_resultz3 = model([x_test,x_test_label,y_test])\n",
    "\n",
    "results_train_img, results_train_y, _,_,train_resultz3 = model([x_train[:15],x_train_label[:15], y_train[:15]])\n",
    "for i in [1,2,3,4,5,6,7,8,9]:\n",
    "    results_train_img2, results_train_y2, _,_,tmp = model([x_train[i*15:i*15+15],x_train_label[i*15:i*15+15], y_train[i*15:i*15+15]])\n",
    "    results_train_img = tf.concat([results_train_img,results_train_img2],0)\n",
    "    results_train_y = tf.concat([results_train_y,results_train_y2],0)\n",
    "    train_resultz3 = tf.concat([train_resultz3,tmp],0)\n",
    "    print(i)\n",
    "\n",
    "#转换类型\n",
    "results_test_img = results_test_img[...].numpy()\n",
    "results_test_y = results_test_y[...,0].numpy()\n",
    "results_train_y =results_train_y[...,0].numpy()\n",
    "results_train_img = results_train_img[...].numpy()"
   ]
  },
  {
   "cell_type": "code",
   "execution_count": null,
   "id": "dd598714",
   "metadata": {},
   "outputs": [],
   "source": []
  },
  {
   "cell_type": "code",
   "execution_count": 152,
   "id": "4067bb3f",
   "metadata": {},
   "outputs": [
    {
     "name": "stdout",
     "output_type": "stream",
     "text": [
      "0.35227314\n"
     ]
    },
    {
     "data": {
      "text/plain": [
       "<matplotlib.legend.Legend at 0x7f4d4ee02790>"
      ]
     },
     "execution_count": 152,
     "metadata": {},
     "output_type": "execute_result"
    },
    {
     "data": {
      "image/png": "[encoded data removed]",
      "text/plain": [
       "<Figure size 432x288 with 1 Axes>"
      ]
     },
     "metadata": {
      "needs_background": "light"
     },
     "output_type": "display_data"
    }
   ],
   "source": [
    "# ROC AUC\n",
    "from sklearn import metrics\n",
    "fpr_ts_3, tpr_ts_3, thresholds_ts_3 = metrics.roc_curve(y_test, results_test_y, pos_label=1)\n",
    "fpr_tr_3, tpr_tr_3, thresholds_tr_3 = metrics.roc_curve(y_train, results_train_y, pos_label=1)\n",
    "\n",
    "from sklearn.metrics import auc  \n",
    "auc_ts_3 = metrics.auc(fpr_ts_3, tpr_ts_3)  \n",
    "auc_tr_3 = metrics.auc(fpr_tr_3, tpr_tr_3)  \n",
    "\n",
    "maxindex = (tpr_ts_3-fpr_ts_3).tolist().index(max(tpr_ts_3-fpr_ts_3))\n",
    "threshold = thresholds_ts_3[maxindex]\n",
    "\n",
    "import matplotlib.pyplot as plt\n",
    "plt.plot(fpr_ts_3, tpr_ts_3, 'k-',label=\"test  (auc={:.2f})\".format(auc_ts_3))\n",
    "plt.plot(fpr_tr_3, tpr_tr_3, 'y-',label=\"train (auc={:.2f})\".format(auc_tr_3))\n",
    "plt.plot([fpr_ts_3[maxindex]],[tpr_ts_3[maxindex]], 'ro')\n",
    "plt.text(fpr_ts_3[maxindex]+0.05,tpr_ts_3[maxindex]-0.2, 'FPR:{:.2f}\\nTPR:{:.2f}\\nThreshold:{:.2f}'.format(fpr_ts_3[maxindex],tpr_ts_3[maxindex],thresholds_ts_3[maxindex])\n",
    ")\n",
    "plt.ylabel(\"True Negative Rate\")\n",
    "plt.xlabel(\"False Positive Rate\")\n",
    "plt.legend(loc=4)"
   ]
  },
  {
   "cell_type": "code",
   "execution_count": 5,
   "id": "30dd52b4",
   "metadata": {},
   "outputs": [
    {
     "data": {
      "image/png": "[encoded data removed]",
      "text/plain": [
       "<Figure size 360x216 with 2 Axes>"
      ]
     },
     "metadata": {
      "needs_background": "light"
     },
     "output_type": "display_data"
    },
    {
     "data": {
      "image/png": "[encoded data removed]",
      "text/plain": [
       "<Figure size 360x216 with 2 Axes>"
      ]
     },
     "metadata": {
      "needs_background": "light"
     },
     "output_type": "display_data"
    }
   ],
   "source": [
    "import seaborn as sn\n",
    "import pandas as pd\n",
    "import matplotlib.pyplot as plt\n",
    "\n",
    "# 混同行列\n",
    "def plot_confusion_matrix(matrix, fig_name = 'lvae1459_h_map_ce+20.jpg'):\n",
    "    df_cm = pd.DataFrame(matrix,\n",
    "                     index = [i for i in ['Positive','Negative']],\n",
    "                     columns = [i for i in ['Positive','Negative']])\n",
    "\n",
    "    plt.figure(figsize = (5,3))\n",
    "    sn.heatmap(df_cm, annot=True,fmt='.20g',cmap=\"BuPu\")\n",
    "    plt.ylabel(\"Actual Values\")\n",
    "    plt.xlabel(\"Predicted Values\")\n",
    "    plt.savefig(fig_name,dpi=400)\n",
    "    \n",
    "from sklearn.metrics import confusion_matrix\n",
    "\n",
    "threshold = 0.5\n",
    "y_train_2 = (results_train_y>threshold).astype('float')\n",
    "tmp = confusion_matrix(y_train, y_train_2)\n",
    "plot_confusion_matrix(tmp,'train2_CM_th05.jpg')\n",
    "\n",
    "y_test_2 = (results_test_y>threshold).astype('float')\n",
    "tmp = confusion_matrix(y_test, y_test_2)\n",
    "plot_confusion_matrix(tmp,'test2_CM_th05.jpg')"
   ]
  }
 ],
 "metadata": {
  "kernelspec": {
   "display_name": "Python 3 (ipykernel)",
   "language": "python",
   "name": "python3"
  },
  "language_info": {
   "codemirror_mode": {
    "name": "ipython",
    "version": 3
   },
   "file_extension": ".py",
   "mimetype": "text/x-python",
   "name": "python",
   "nbconvert_exporter": "python",
   "pygments_lexer": "ipython3",
   "version": "3.8.10"
  }
 },
 "nbformat": 4,
 "nbformat_minor": 5
}
